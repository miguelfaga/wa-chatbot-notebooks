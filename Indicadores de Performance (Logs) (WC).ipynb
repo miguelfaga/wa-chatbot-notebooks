{
 "cells": [
  {
   "cell_type": "code",
   "execution_count": null,
   "metadata": {},
   "outputs": [],
   "source": [
    "import nltk\n",
    "import collections\n",
    "import re, string\n",
    "import numpy as np\n",
    "import pandas as pd\n",
    "import matplotlib.pyplot as plt\n",
    "\n",
    "#from PIL import Image\n",
    "#from datetime import datetime\n",
    "from string import punctuation\n",
    "from nltk.corpus import stopwords\n",
    "from wordcloud import WordCloud, STOPWORDS, ImageColorGenerator"
   ]
  },
  {
   "cell_type": "code",
   "execution_count": null,
   "metadata": {
    "scrolled": true
   },
   "outputs": [],
   "source": [
    "#arch = input(\"Arquivo: \")\n",
    "arch = \"EXTRACAO.csv\" #indicar o arquivo .csv com a extração\n",
    "\n",
    "table = pd.read_csv(arch)\n",
    "table = table.sort_values(by=['date','conversation_id','turn_counter'], ascending=True).reset_index(drop=True)\n",
    "\n",
    "table.sort_values('conversation_id')"
   ]
  },
  {
   "cell_type": "code",
   "execution_count": null,
   "metadata": {},
   "outputs": [],
   "source": [
    "#table.plot.scatter(x='confidence', y='turn_counter', figsize=(20, 10), ylim = [0, 2])"
   ]
  },
  {
   "cell_type": "markdown",
   "metadata": {},
   "source": [
    "# Mensagens por dia"
   ]
  },
  {
   "cell_type": "code",
   "execution_count": null,
   "metadata": {
    "scrolled": false
   },
   "outputs": [],
   "source": [
    "daily = table.groupby('date').agg({'conversation_id': 'count'}).rename(columns={\"conversation_id\": \"mensagens\"})\n",
    "daily_conversations = table.groupby('date').agg({'conversation_id': 'nunique'}).rename(columns={\"conversation_id\": \"conversas\"})\n",
    "daily = daily.join(daily_conversations)\n",
    "daily[\"média\"] = round(daily['mensagens']/daily['conversas'], 1)\n",
    "daily\n"
   ]
  },
  {
   "cell_type": "markdown",
   "metadata": {},
   "source": [
    "# Transferências por dia"
   ]
  },
  {
   "cell_type": "code",
   "execution_count": null,
   "metadata": {},
   "outputs": [],
   "source": [
    "human = table.groupby(['date', 'bot_message'], as_index=False).agg({'conversation_id': 'count'})\n",
    "human2 = human[human.bot_message == '[[REDIRECT_CUSTHELP]]'].drop('bot_message', axis=1).reset_index(drop=True).set_index('date')\n",
    "human2"
   ]
  },
  {
   "cell_type": "markdown",
   "metadata": {},
   "source": [
    "# <span style=\"color:blue\">Conversas</span> X <span style=\"color:red\">Transferências</span>"
   ]
  },
  {
   "cell_type": "code",
   "execution_count": null,
   "metadata": {
    "scrolled": true
   },
   "outputs": [],
   "source": [
    "daily_conversations['conversas'].plot.bar(figsize=(25,5), color='royalblue')\n",
    "human2['conversation_id'].plot.bar(color='indianred')\n",
    "\n",
    "#title = str(plt.title('Conversas X Transferências'))\n",
    "#plt.xlabel('Data')\n",
    "#plt.ylabel('Conversas + Transferências')\n",
    "#plt.savefig(title + '.png')"
   ]
  },
  {
   "cell_type": "code",
   "execution_count": null,
   "metadata": {
    "scrolled": false
   },
   "outputs": [],
   "source": [
    "joined = daily_conversations.join(human2['conversation_id'])\n",
    "\n",
    "joined['% Transferidos'] = round(joined['conversation_id']/joined['conversas'], 4) * 100\n",
    "joined['% Retidos'] = 100  - joined['% Transferidos']\n",
    "joined.rename(columns={\"conversation_id\": \"transferências\"})[:10]"
   ]
  },
  {
   "cell_type": "code",
   "execution_count": null,
   "metadata": {},
   "outputs": [],
   "source": [
    "joined['% Retidos'].plot.line(color='olive', figsize=(20,5), xticks=range(1, len(joined.index)), rot=270, grid=True, marker=\"o\")\n",
    "\n",
    "title = str(plt.title('Taxa de Retenção'))\n",
    "plt.xlabel('Data')\n",
    "plt.ylabel('Retidos')\n",
    "#plt.savefig(title + '.png')"
   ]
  },
  {
   "cell_type": "code",
   "execution_count": null,
   "metadata": {},
   "outputs": [],
   "source": [
    "joined['conversation_id'].sum()/joined['conversas'].sum() * 100"
   ]
  },
  {
   "cell_type": "markdown",
   "metadata": {},
   "source": [
    "# Acionamento de intenções (geral)"
   ]
  },
  {
   "cell_type": "code",
   "execution_count": null,
   "metadata": {
    "scrolled": true
   },
   "outputs": [],
   "source": [
    "intents = table.groupby('intent').agg({'conversation_id': 'count', 'confidence': 'mean'})\n",
    "intents['%'] = round(intents['conversation_id']/intents['conversation_id'].sum(), 3) * 100\n",
    "intents.sort_values('conversation_id', ascending=False)"
   ]
  },
  {
   "cell_type": "code",
   "execution_count": null,
   "metadata": {},
   "outputs": [],
   "source": [
    "#intents.plot.scatter(y='%', x='confidence', color='teal')"
   ]
  },
  {
   "cell_type": "markdown",
   "metadata": {},
   "source": [
    "# Acionamento de intenções (1ª interação)"
   ]
  },
  {
   "cell_type": "code",
   "execution_count": null,
   "metadata": {},
   "outputs": [],
   "source": [
    "first_turn = table.groupby(['turn_counter', 'intent'], as_index=False).agg({'conversation_id': 'nunique', 'confidence':'mean'})\n",
    "first_turn2 = first_turn[first_turn.turn_counter == 1].drop('turn_counter', axis=1).reset_index(drop=True).set_index('intent')\n",
    "first_turn2['%'] = round(first_turn2['conversation_id']/first_turn2['conversation_id'].sum(), 3) * 100\n",
    "first_turn2.sort_values('conversation_id', ascending=False)"
   ]
  },
  {
   "cell_type": "markdown",
   "metadata": {},
   "source": [
    "# Indicadores de tendências por turno "
   ]
  },
  {
   "cell_type": "code",
   "execution_count": null,
   "metadata": {},
   "outputs": [],
   "source": [
    "def flow_matrix_x(intent):\n",
    "    flow_cid = table[table.turn_counter == 1][table.intent==intent]\n",
    "    cid_set = set(flow_cid['conversation_id'])\n",
    "    cid = table['conversation_id']\n",
    "    cid_count = collections.Counter(cid)\n",
    "    cid_dic = dict()\n",
    "\n",
    "    for x in cid_count:\n",
    "        if x in cid_set:\n",
    "            cid_dic[x]=cid_count[x]\n",
    "        \n",
    "    dic_count = collections.Counter([cid_dic[key] for key in cid_dic])\n",
    "    list_count = list(dic_count)\n",
    "    list_count.sort()\n",
    "    return list_count\n",
    "\n",
    "def flow_matrix_y(intent):\n",
    "    flow_cid = table[table.turn_counter == 1][table.intent==intent]\n",
    "    cid_set = set(flow_cid['conversation_id'])\n",
    "    cid = table['conversation_id']\n",
    "    cid_count = collections.Counter(cid)\n",
    "    cid_dic = dict()\n",
    "\n",
    "    for x in cid_count:\n",
    "        if x in cid_set:\n",
    "            cid_dic[x]=cid_count[x]\n",
    "        \n",
    "    dic_count = collections.Counter([cid_dic[key] for key in cid_dic])\n",
    "    list_count = list(dic_count)\n",
    "    list_count.sort()\n",
    "\n",
    "    graphic = [dic_count[key] for key in list_count]\n",
    "    graphic\n",
    "    return graphic"
   ]
  },
  {
   "cell_type": "code",
   "execution_count": null,
   "metadata": {},
   "outputs": [],
   "source": [
    "plt.figure(figsize=(20, 10))\n",
    "\n",
    "plt.plot(flow_matrix_x('#consultar'), flow_matrix_y('#consultar'), \n",
    "         label='Consultar', marker='o', linewidth=2, markersize=12)\n",
    "plt.plot(flow_matrix_x('#recomendar'), flow_matrix_y('#recomendar'), \n",
    "         label='Recomendar', marker='o', linewidth=2, markersize=12)\n",
    "plt.plot(flow_matrix_x('#especificar'), flow_matrix_y('#especificar'), \n",
    "         label='Especificar', marker='o', linewidth=2, markersize=12)\n",
    "plt.plot(flow_matrix_x('#barganhar'), flow_matrix_y('#barganhar'), \n",
    "         label='Barganhar', marker='o', linewidth=2, markersize=12)\n",
    "\n",
    "plt.axis([0, 12, 0, 2100])\n",
    "plt.grid()\n",
    "\n",
    "plt.legend()\n",
    "title = str(plt.title('Análise métrica de abandono por turno'))\n",
    "plt.xlabel('Turno')\n",
    "plt.ylabel('Conversas')\n",
    "plt.show()\n",
    "#plt.savefig(title + '.png')"
   ]
  },
  {
   "cell_type": "markdown",
   "metadata": {},
   "source": [
    "# Mensagens e transferência por turno"
   ]
  },
  {
   "cell_type": "code",
   "execution_count": null,
   "metadata": {},
   "outputs": [],
   "source": [
    "turns = table.groupby(['turn_counter']).agg({'conversation_id': 'nunique'}).rename(columns={\"conversation_id\": \"conversas\"})\n",
    "retention = table.groupby(['bot_message', 'turn_counter'], as_index=False).agg({'conversation_id': 'nunique'})\n",
    "retention = retention[retention.bot_message == '[[REDIRECT_CUSTHELP]]'].drop('bot_message', axis=1).reset_index(drop=True).set_index('turn_counter').rename(columns={\"conversation_id\": \"transferências\"})\n",
    "media_turnos = turns.join(retention)\n",
    "media_turn_trasnf = media_turnos[\"transferências\"].sum() / media_turnos[\"conversas\"].sum() *100\n",
    "\n",
    "print('Média de transferências por turno:', round(media_turn_trasnf))"
   ]
  },
  {
   "cell_type": "markdown",
   "metadata": {},
   "source": [
    "### Mensagens x Turno"
   ]
  },
  {
   "cell_type": "code",
   "execution_count": null,
   "metadata": {},
   "outputs": [],
   "source": [
    "ab = turns.plot.line(color='lime', xticks=turns.index, xlim = [1, 10], grid=True, figsize=(10,5))\n",
    "retention.plot.line(color='firebrick', xticks=retention.index, xlim = [1, 10], grid=True, figsize=(10,5), ax=ab)\n",
    "\n",
    "title = str(plt.title('Mensagens x Turno'))\n",
    "plt.xlabel('Turno')\n",
    "plt.ylabel('Mensagens + Transferências')\n",
    "#plt.savefig(title + '.png')"
   ]
  },
  {
   "cell_type": "markdown",
   "metadata": {},
   "source": [
    "### Transferências x Turno"
   ]
  },
  {
   "cell_type": "code",
   "execution_count": null,
   "metadata": {
    "slideshow": {
     "slide_type": "slide"
    }
   },
   "outputs": [],
   "source": [
    "retention.plot.line(color='firebrick', xticks=retention.index, xlim = [1, 10], grid=True, figsize=(10, 5))\n",
    "\n",
    "title = str(plt.title('Transferências x Turno'))\n",
    "plt.xlabel('Turno')\n",
    "plt.ylabel('Transferências')\n",
    "#plt.savefig(title + '.png')"
   ]
  },
  {
   "cell_type": "markdown",
   "metadata": {},
   "source": [
    "# Irrelevant"
   ]
  },
  {
   "cell_type": "code",
   "execution_count": null,
   "metadata": {
    "scrolled": false
   },
   "outputs": [],
   "source": [
    "irrelevante_table = pd.DataFrame(table[table.confidence <= 0.2]['input']).join(table[table.confidence <= 0.2]['intent']).join(table[table.confidence <= 0.2]['confidence']).reset_index(drop=True)\n",
    "irrelevante_table[:1000]"
   ]
  },
  {
   "cell_type": "code",
   "execution_count": null,
   "metadata": {},
   "outputs": [],
   "source": [
    "agg_it = irrelevante_table.groupby('intent').agg({'confidence':'count'}).sort_values('confidence', ascending=False)\n",
    "agg_it['%'] = round(agg_it['confidence']/agg_it['confidence'].sum(), 3) * 100\n",
    "agg_it"
   ]
  },
  {
   "cell_type": "markdown",
   "metadata": {},
   "source": [
    "# Nuvem de Palavras"
   ]
  },
  {
   "cell_type": "code",
   "execution_count": null,
   "metadata": {},
   "outputs": [],
   "source": [
    "msg = list(table['input'])\n",
    "msg_list = []\n",
    "for i in msg:\n",
    "    for j in i.split():\n",
    "        msg_list.append(j.lower())"
   ]
  },
  {
   "cell_type": "code",
   "execution_count": null,
   "metadata": {},
   "outputs": [],
   "source": [
    "word_cont = collections.Counter(msg_list) #contagem de frequencias\n",
    "limit_ranking = word_cont.most_common(1000000) #definindo o limite a ser mostrado no ranking (aqui a necessidade de limitar se deve a identação para criação do df)\n",
    "df = pd.DataFrame(limit_ranking, columns=['Palavras', 'Qtda']) "
   ]
  },
  {
   "cell_type": "code",
   "execution_count": null,
   "metadata": {},
   "outputs": [],
   "source": [
    "# lista de stopword\n",
    "stoplist = ['da', 'meu', 'em', 'você', 'de', 'ao', 'os', 'deu', 'sim', 'não', 'gmail', 'hotmail', ' ', '', \n",
    "            'voltar', 'menu', 'retornar', 'alarme','capacidade','cesto','quadrichama','duplachama', \n",
    "            'ciclo_edredom', 'brancomaisbranco','programa', 'coresmaisvivas', 'turbo_control', 'extrafrio', \n",
    "            'espaco_adapt', 'acesso_rapido', 'compartimento', 'twist_ice', 'latas_e_longnecks', 'conservacao', \n",
    "            'telefone', 'numero', 'contato', 'televenda', 'controle', 'degelo', 'frostfree', 'design', \n",
    "            'multidispenser', 'dual_dispenser', 'gratuidade', 'promocao', 'cupom', 'economia', 'desconto', \n",
    "            'valor', 'etapa', 'expirado', 'boca','forno_duplo', 'filtro_antifiapos', 'smartbar', \n",
    "            'funcao_turbo', 'turbo_ice', 'icemaker', 'enxague_duplo', 'enxague_antialergico', 'funcao_enxague', \n",
    "            'gavetao', 'grill', 'fogao', 'lavadora', 'geladeira', 'iluminacao_led', 'inverse', 'vidro', \n",
    "            'mesa', 'painel', 'prateleira', '6_bocas_antes', '6_bocas_depois', '4_bocas_depois', \n",
    "            '5_bocas_depois', '5_bocas_antes', '4_bocas_antes', 'sem_forno_duplo_depois', \n",
    "            'sem_forno_duplo_antes', 'com_forno_duplo_depois', 'com_forno_duplo_antes', 'branca', 'preta', \n",
    "            'inox', 'frostfree_sim_depois', 'frostfree_nao_antes','frostfree_nao_depois', \n",
    "            'frostfree_sim_antes', 'cinco_mais', 'um_dois', 'tres_quatro', 'fr_no_alto', 'fr_ao_lado', \n",
    "            'fr_embaixo', 'com_restricao', 'sem_restricao', 'pouca_qtd', 'media_qtd', 'muita_qtd', '3_vez', \n",
    "            '2_vez', '1_vez', 'sku', 'temperatura', 'timer', '110v_lavadora', '220v_geladeira', '110v_geladeira', \n",
    "            '110v_fogao', '110v', '220v_lavadora', '220v_fogao', '220v', 'continuar', 'nao', 'frost_free', \n",
    "            'prosseguir_frost_free', 'pra', 'para', 'ja', 'oi', 'ola', ]\n",
    "\n",
    "stopwords = set(stopwords.words('portuguese') + list(punctuation) +  list(STOPWORDS) + stoplist)"
   ]
  },
  {
   "cell_type": "code",
   "execution_count": null,
   "metadata": {},
   "outputs": [],
   "source": [
    "for index, row in df.iterrows():\n",
    "    if row['Palavras'] in stopwords:\n",
    "        df = df.drop(index)\n",
    "        \n",
    "df[:10]"
   ]
  },
  {
   "cell_type": "code",
   "execution_count": null,
   "metadata": {},
   "outputs": [],
   "source": [
    "words_dic = {}\n",
    "words_dic_sum = df[\"Qtda\"].sum()\n",
    "for index, row in df.iterrows():\n",
    "    words_dic[re.sub('[%s]' % re.escape(string.punctuation), '', row['Palavras'])] = float(row['Qtda'] / words_dic_sum)"
   ]
  },
  {
   "cell_type": "code",
   "execution_count": null,
   "metadata": {},
   "outputs": [],
   "source": [
    "#gerar uma wordclou\n",
    "wordcloud = WordCloud(stopwords=stopwords,\n",
    "                      max_words=1000,\n",
    "                      max_font_size=70, \n",
    "                      color_func=lambda *args, **kwargs: 'gold', \n",
    "                      background_color='indigo').generate_from_frequencies(words_dic)"
   ]
  },
  {
   "cell_type": "code",
   "execution_count": null,
   "metadata": {},
   "outputs": [],
   "source": [
    "# mostrar a imagem final\n",
    "plt.figure(figsize=[20, 20])\n",
    "plt.imshow(wordcloud)\n",
    "plt.axis(\"off\")\n",
    "plt.show()\n",
    "#plt.savefig('Nuvem de Palavras.png')"
   ]
  }
 ],
 "metadata": {
  "kernelspec": {
   "display_name": "Python 3",
   "language": "python",
   "name": "python3"
  },
  "language_info": {
   "codemirror_mode": {
    "name": "ipython",
    "version": 3
   },
   "file_extension": ".py",
   "mimetype": "text/x-python",
   "name": "python",
   "nbconvert_exporter": "python",
   "pygments_lexer": "ipython3",
   "version": "3.7.4"
  }
 },
 "nbformat": 4,
 "nbformat_minor": 2
}
