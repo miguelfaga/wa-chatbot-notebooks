{
 "cells": [
  {
   "cell_type": "markdown",
   "metadata": {},
   "source": [
    "# Assistant Log Extractor (para Watson Studio)"
   ]
  },
  {
   "cell_type": "markdown",
   "metadata": {},
   "source": [
    "## Introdução\n",
    "Este notebook auxilia a fazer a extração, manipulação e visualização dos dados de logs do IBM Watson Assistant no Watson Studio."
   ]
  },
  {
   "cell_type": "markdown",
   "metadata": {},
   "source": [
    "## 1. Configuração e setup"
   ]
  },
  {
   "cell_type": "markdown",
   "metadata": {},
   "source": [
    "### 1.1 Instalação de bibliotecas necessárias"
   ]
  },
  {
   "cell_type": "code",
   "execution_count": null,
   "metadata": {},
   "outputs": [],
   "source": [
    "import ibm_watson #autenticação na IBM Cloud\n",
    "#from project_lib import Project #autenticação nos projetos do IBM Watson Studio\n",
    "import csv\n",
    "import pandas as pd\n",
    "import extractor\n",
    "from datetime import datetime\n",
    "from time import sleep"
   ]
  },
  {
   "cell_type": "markdown",
   "metadata": {},
   "source": [
    "### 1.2 Credenciais\n",
    "Preencha as variáveis com as credenciais do Watson Assistant e do projeto do Watson Studio."
   ]
  },
  {
   "cell_type": "code",
   "execution_count": null,
   "metadata": {},
   "outputs": [],
   "source": [
    "assistant_apikey = 'APIKEY'\n",
    "assistant_workspace_id = 'WORKSPACEID'\n",
    "#studio_project_id = 'PROJETC_ID'\n",
    "#studio_project_access_token = 'PROJECT_TOKEN'\n",
    "#O token do projeto é um token de autorização para acessar recursos como dados e conexões."
   ]
  },
  {
   "cell_type": "markdown",
   "metadata": {},
   "source": [
    "### 1.3 Instância do Watson Assistant"
   ]
  },
  {
   "cell_type": "code",
   "execution_count": null,
   "metadata": {},
   "outputs": [],
   "source": [
    "service = ibm_watson.AssistantV1(\n",
    "            iam_apikey = assistant_apikey,\n",
    "            version = '2019-02-28',\n",
    "            url= 'https://gateway.watsonplatform.net/assistant/api'\n",
    ")\n",
    "workspace_id = assistant_workspace_id"
   ]
  },
  {
   "cell_type": "markdown",
   "metadata": {},
   "source": [
    "### 1.4 Instância do Projeto no Watson Studio"
   ]
  },
  {
   "cell_type": "code",
   "execution_count": null,
   "metadata": {},
   "outputs": [],
   "source": [
    "project = Project(project_id=studio_project_id, project_access_token=studio_project_access_token)\n",
    "pc = project.project_context"
   ]
  },
  {
   "cell_type": "markdown",
   "metadata": {},
   "source": [
    "## 2. Extração de logs\n",
    "As próximas células definem o filtro para a extração dos logs. \n",
    "**⚠️ Execute apenas uma das células desta seção.**"
   ]
  },
  {
   "cell_type": "markdown",
   "metadata": {},
   "source": [
    "### 2.1 Filtro de data\n",
    "Insira as datas para o período dos logs que você deseja extrair, seguindo o formato de data."
   ]
  },
  {
   "cell_type": "code",
   "execution_count": null,
   "metadata": {},
   "outputs": [],
   "source": [
    "de = input(\"De (AAAA-MM-DD): \")\n",
    "ate = input(\"Até (AAAA-MM-DD): \")\n",
    "filter_criteria = 'response_timestamp>='+ de + ',response_timestamp<=' + ate\n",
    "print(filter_criteria)"
   ]
  },
  {
   "cell_type": "markdown",
   "metadata": {},
   "source": [
    "### 2.2  Filtro de turno\n",
    "Busca apenas mensagens de primeiro turno da conversa."
   ]
  },
  {
   "cell_type": "code",
   "execution_count": null,
   "metadata": {},
   "outputs": [],
   "source": [
    "filter_criteria = 'response.context.system.dialog_turn_counter::1'"
   ]
  },
  {
   "cell_type": "markdown",
   "metadata": {},
   "source": [
    "### 2.3 Outros filtros\n",
    "Preencha o campo de filtro conforme a query que deseja fazer. Consute [aqui](https://cloud.ibm.com/docs/services/assistant?topic=assistant-filter-reference) os filtros e formatos."
   ]
  },
  {
   "cell_type": "code",
   "execution_count": null,
   "metadata": {},
   "outputs": [],
   "source": [
    "filter_criteria = ''"
   ]
  },
  {
   "cell_type": "markdown",
   "metadata": {},
   "source": [
    "### 2.4 Extração de logs\n"
   ]
  },
  {
   "cell_type": "code",
   "execution_count": null,
   "metadata": {},
   "outputs": [],
   "source": [
    "log_extraction = service.list_logs(workspace_id, filter=filter_criteria, page_limit=1000).get_result() \n",
    "#chamada para recupear o log"
   ]
  },
  {
   "cell_type": "markdown",
   "metadata": {},
   "source": [
    "## 3. Construção da tabela"
   ]
  },
  {
   "cell_type": "markdown",
   "metadata": {},
   "source": [
    "### 3.1 Criação da tabela"
   ]
  },
  {
   "cell_type": "code",
   "execution_count": null,
   "metadata": {},
   "outputs": [],
   "source": [
    "print(datetime.now())\n",
    "table = pd.DataFrame(columns=[\"conversation_id\",\n",
    "                        \"turn_counter\",\n",
    "                        \"date\",\n",
    "                        \"time\",\n",
    "                        \"input\", \n",
    "                        \"intent\",\n",
    "                        \"confidence\", \n",
    "                        \"entities:value\",\n",
    "                        \"bot_message\", \n",
    "                        \"log_id\"]) #adiciona as colunas da tabela\n",
    "counter = 0\n",
    "while True:\n",
    "    for element in log_extraction[\"logs\"]:\n",
    "        line = extractor.extractor_list(element) #chama a função que organiza o .json em linhas para tabela\n",
    "        table = table.append(pd.Series(line, index=table.columns), ignore_index=True)\n",
    "    counter += 1\n",
    "    print(\"Página {} processada\".format(str(counter)))\n",
    "    if counter >= 24:\n",
    "        print(\"Limite de request excedido. Aguardando 60 segundos para retomar.\")\n",
    "        sleep(60)\n",
    "        counter = 0\n",
    "    if 'next_url' in log_extraction['pagination'].keys(): #confere paginação\n",
    "        cursor = log_extraction['pagination']['next_cursor']\n",
    "        log_extraction = service.list_logs(\n",
    "            workspace_id, \n",
    "            filter=filter_criteria, \n",
    "            page_limit=1000, \n",
    "            cursor=cursor).get_result()\n",
    "    else:\n",
    "        break\n",
    "print(datetime.now())"
   ]
  },
  {
   "cell_type": "markdown",
   "metadata": {},
   "source": [
    "### 3.2 Visualização da tabela"
   ]
  },
  {
   "cell_type": "code",
   "execution_count": null,
   "metadata": {},
   "outputs": [],
   "source": [
    "table"
   ]
  },
  {
   "cell_type": "markdown",
   "metadata": {},
   "source": [
    "### 3.3 Salvar tabela WS"
   ]
  },
  {
   "cell_type": "code",
   "execution_count": null,
   "metadata": {},
   "outputs": [],
   "source": [
    "extraction_date = datetime.strftime(datetime.now(), \"%Y-%m-%d\")\n",
    "\n",
    "project.save_data(extraction_date + \".csv\", table.to_csv(), overwrite=True) \n",
    "#salva a planilha em .csv no ObjectStorage da IBM"
   ]
  },
  {
   "cell_type": "markdown",
   "metadata": {},
   "source": [
    "### 3.4 Salvar tabela local"
   ]
  },
  {
   "cell_type": "code",
   "execution_count": null,
   "metadata": {},
   "outputs": [],
   "source": [
    "table.to_csv(str(datetime.today()) + filter_criteria + \".csv\", index=False)\n",
    "#salva a planilha em .csv no diretório local"
   ]
  },
  {
   "cell_type": "markdown",
   "metadata": {},
   "source": [
    "## 4. Manipulação de dados"
   ]
  },
  {
   "cell_type": "code",
   "execution_count": null,
   "metadata": {},
   "outputs": [],
   "source": [
    "table.sort_values(by=['date','conversation_id','turn_counter'], inplace=True, ascending=True)\n",
    "#ordena a tabela conforme data e hora, id da conversa e turno, do menor para o maior\n",
    "table"
   ]
  },
  {
   "cell_type": "code",
   "execution_count": null,
   "metadata": {},
   "outputs": [],
   "source": [
    "intent_count_table = table.groupby(by=['intent'])['intent'].count()\n",
    "confidence_mean_table = table.groupby(by=['intent'])['confidence'].mean()\n",
    "\n",
    "intent_count_table"
   ]
  },
  {
   "cell_type": "code",
   "execution_count": null,
   "metadata": {},
   "outputs": [],
   "source": [
    "confidence_mean_table"
   ]
  },
  {
   "cell_type": "code",
   "execution_count": null,
   "metadata": {},
   "outputs": [],
   "source": [
    "intent_table = pd.DataFrame(columns=[\"intents\", \"occurances\", \"confidence_mean\"])\n",
    "for i in range(len(intent_count_table.keys())):\n",
    "    intent = intent_count_table.keys()[i]\n",
    "    occurance = intent_count_table[i]\n",
    "    confidence = confidence_mean_table[i]\n",
    "    line = [intent, occurance, confidence]\n",
    "    intent_table = intent_table.append(pd.Series(line, index=intent_table.columns), ignore_index=True)\n",
    "intent_table    "
   ]
  },
  {
   "cell_type": "code",
   "execution_count": null,
   "metadata": {},
   "outputs": [],
   "source": [
    "messages_no = table['log_id'].nunique()\n",
    "conversations_no = table['conversation_id'].nunique()\n",
    "\n",
    "print('''=====REPORT====\n",
    "Nº de mensagens: {}\n",
    "Nº de conversas: {}\n",
    "Média de mensagens: {}\n",
    "'''.format(messages_no, conversations_no, messages_no/conversations_no))"
   ]
  },
  {
   "cell_type": "code",
   "execution_count": null,
   "metadata": {},
   "outputs": [],
   "source": []
  }
 ],
 "metadata": {
  "kernelspec": {
   "display_name": "Python 3",
   "language": "python",
   "name": "python3"
  },
  "language_info": {
   "codemirror_mode": {
    "name": "ipython",
    "version": 3
   },
   "file_extension": ".py",
   "mimetype": "text/x-python",
   "name": "python",
   "nbconvert_exporter": "python",
   "pygments_lexer": "ipython3",
   "version": "3.7.4"
  }
 },
 "nbformat": 4,
 "nbformat_minor": 1
}
